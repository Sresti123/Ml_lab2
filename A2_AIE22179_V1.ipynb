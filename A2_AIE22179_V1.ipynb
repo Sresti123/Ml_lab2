{
 "cells": [
  {
   "cell_type": "code",
   "execution_count": 3,
   "metadata": {},
   "outputs": [
    {
     "name": "stdout",
     "output_type": "stream",
     "text": [
      "Euclidian Distance: 3.0\n",
      "Manhattan Distance: 5\n"
     ]
    }
   ],
   "source": [
    "def Euclidian_distance(V1,V2):\n",
    "    sum_of_distances = 0\n",
    "    for i in range(len(V1)):\n",
    "        sum_of_distances += (V1[i]-V2[i])**2\n",
    "    Euc_distance = (sum_of_distances)**0.5\n",
    "    return Euc_distance\n",
    "\n",
    "\n",
    "def manhattan_distance(V1,V2):\n",
    "\n",
    "    sum_of_abs_diff = 0\n",
    "    for i in range(len(V1)):\n",
    "        sum_of_abs_diff += abs(V1[i] - V2[i])\n",
    "    return sum_of_abs_diff\n",
    "\n",
    "\n",
    "V1 = [1,5,3]\n",
    "V2 = [3,4,5]\n",
    "print(\"Euclidian Distance:\",Euclidian_distance(V1,V2))\n",
    "print(\"Manhattan Distance:\",manhattan_distance(V1,V2))\n"
   ]
  },
  {
   "cell_type": "code",
   "execution_count": 1,
   "metadata": {},
   "outputs": [
    {
     "name": "stdout",
     "output_type": "stream",
     "text": [
      "predictions: [0 0]\n"
     ]
    }
   ],
   "source": [
    "import numpy as np\n",
    "from collections import Counter\n",
    "\n",
    "class KNN_Classifier:\n",
    "    def __init__(self,k):\n",
    "        self.k=k\n",
    "    def fit(self, X_train, y_train):\n",
    "        self.X_train=X_train\n",
    "        self.y_train=y_train\n",
    "    def predict(self, X_test):\n",
    "        y_pred=[self._predict(x) for x in X_test]\n",
    "        return np.array(y_pred)\n",
    "    def _predict(self,x):\n",
    "        distances=[np.linalg.norm(x-x_train) for x_train in self.X_train]\n",
    "        k_indices=np.argsort(distances[:self.k])\n",
    "        k_nearest_labels=[self.y_train[i] for i in k_indices]\n",
    "        most_common=Counter(k_nearest_labels).most_common(1)\n",
    "        return most_common[0][0]\n",
    "    \n",
    "X_train=np.array([[1,2],[2,3],[3,4],[4,5]])\n",
    "y_train=np.array([0,0,1,1])\n",
    "X_test=np.array([[2.5,3.5],[1.5,2.5]])\n",
    "knn=KNN_Classifier(k=3)\n",
    "knn.fit(X_train,y_train)\n",
    "predictions=knn.predict(X_test)\n",
    "print(\"predictions:\",predictions)"
   ]
  },
  {
   "cell_type": "code",
   "execution_count": 5,
   "metadata": {},
   "outputs": [
    {
     "name": "stdout",
     "output_type": "stream",
     "text": [
      "Label Encoded Values: [0, 1, 2, 1, 0]\n"
     ]
    }
   ],
   "source": [
    "def Label_Encoding(Category):\n",
    "    Unique_Values = {}\n",
    "    Encode_Data = []\n",
    "\n",
    "    for i in Category:\n",
    "        if i not in Unique_Values:\n",
    "            Unique_Values[i] = len(Unique_Values)\n",
    "        Encode_Data.append(Unique_Values[i])\n",
    "\n",
    "    return Encode_Data\n",
    "\n",
    "Category_Data = [\"Vivek\",\"Sresti\",\"Sharma\",\"Sresti\",\"Vivek\"]\n",
    "print(\"Label Encoded Values:\",Label_Encoding(Category_Data))\n"
   ]
  },
  {
   "cell_type": "code",
   "execution_count": 6,
   "metadata": {},
   "outputs": [
    {
     "name": "stdout",
     "output_type": "stream",
     "text": [
      "[1, 0, 0]\n",
      "[0, 1, 0]\n",
      "[0, 0, 1]\n",
      "[0, 1, 0]\n",
      "[0, 0, 1]\n"
     ]
    }
   ],
   "source": [
    "def One_Hot_Encoding(Category):\n",
    "    Unique_Values = {}\n",
    "    Hot_Encoded_Data = []\n",
    "\n",
    "    for i in Category:\n",
    "        if i not in Unique_Values:\n",
    "            Unique_Values[i] = len(Unique_Values)\n",
    "\n",
    "    for i in Category:\n",
    "        Hot_Encoding = [0]*len(Unique_Values)\n",
    "        Hot_Encoding[Unique_Values[i]]=1\n",
    "        Hot_Encoded_Data.append(Hot_Encoding)\n",
    "\n",
    "    return Hot_Encoded_Data\n",
    "\n",
    "Category_Data = [\"Sresti\",\"Sharma\",\"Hemanth\",\"Sharma\",\"Hemanth\"]\n",
    "Encoded_List = One_Hot_Encoding(Category_Data)\n",
    "\n",
    "Hot_Encoded_matrix = [list(x) for x in Encoded_List]\n",
    "\n",
    "for row in Hot_Encoded_matrix:\n",
    "    print(row)"
   ]
  }
 ],
 "metadata": {
  "kernelspec": {
   "display_name": "Python 3",
   "language": "python",
   "name": "python3"
  },
  "language_info": {
   "codemirror_mode": {
    "name": "ipython",
    "version": 3
   },
   "file_extension": ".py",
   "mimetype": "text/x-python",
   "name": "python",
   "nbconvert_exporter": "python",
   "pygments_lexer": "ipython3",
   "version": "3.11.4"
  }
 },
 "nbformat": 4,
 "nbformat_minor": 2
}
